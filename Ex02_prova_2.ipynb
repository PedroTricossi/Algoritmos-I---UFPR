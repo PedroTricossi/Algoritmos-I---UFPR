{
  "nbformat": 4,
  "nbformat_minor": 0,
  "metadata": {
    "colab": {
      "name": "Ex02 - prova-2.ipynb",
      "provenance": [],
      "collapsed_sections": [],
      "authorship_tag": "ABX9TyOLfOM7N/XgVhR8gqwayXaP",
      "include_colab_link": true
    },
    "kernelspec": {
      "name": "python3",
      "display_name": "Python 3"
    }
  },
  "cells": [
    {
      "cell_type": "markdown",
      "metadata": {
        "id": "view-in-github",
        "colab_type": "text"
      },
      "source": [
        "<a href=\"https://colab.research.google.com/github/PedroTricossi/Algoritmos-I---UFPR/blob/master/Ex02_prova_2.ipynb\" target=\"_parent\"><img src=\"https://colab.research.google.com/assets/colab-badge.svg\" alt=\"Open In Colab\"/></a>"
      ]
    },
    {
      "cell_type": "markdown",
      "metadata": {
        "id": "xaANztf9HzDV",
        "colab_type": "text"
      },
      "source": [
        "### Professor, eu fiz esse notebook pois durante a prova fiquei pensando se o exercicio numero 2 poderia ser resolvido utilizando uma inteligencia artificial. E como veremos logo, a resposta é **não tão bem**.\n",
        "\n",
        "### Mas vou te explicar o que eu fiz, quem sabe possa ter alguma ideia de fazer melhor."
      ]
    },
    {
      "cell_type": "markdown",
      "metadata": {
        "id": "zHvXsCsfMMgi",
        "colab_type": "text"
      },
      "source": [
        "\n",
        "\n",
        "---\n",
        "\n"
      ]
    },
    {
      "cell_type": "markdown",
      "metadata": {
        "id": "KwT0a39qMQTr",
        "colab_type": "text"
      },
      "source": [
        "Em primeiro lugar eu importei as bibliotecas.\n",
        "\n",
        "\n",
        "\n",
        "*   tensorflow é uma biblioteca feito pela google, especificamente para deep learning.\n",
        "*   numpy é um biblioteca para manipulação matemática em python, que vacilita muito o trabalho com matrizes numéricas. \n",
        "\n",
        "\n",
        "\n"
      ]
    },
    {
      "cell_type": "code",
      "metadata": {
        "id": "mFuPQqE1-JC9",
        "colab_type": "code",
        "colab": {}
      },
      "source": [
        "import tensorflow as tf"
      ],
      "execution_count": 1,
      "outputs": []
    },
    {
      "cell_type": "code",
      "metadata": {
        "id": "XuLqyEPQ-Nco",
        "colab_type": "code",
        "colab": {}
      },
      "source": [
        "import numpy as np\n",
        "import logging\n",
        "\n",
        "logger = tf.get_logger()\n",
        "logger.setLevel(logging.ERROR)"
      ],
      "execution_count": 2,
      "outputs": []
    },
    {
      "cell_type": "code",
      "metadata": {
        "id": "V0M6Ut0iOi6t",
        "colab_type": "code",
        "colab": {}
      },
      "source": [
        "def previsao_modelo_1():\n",
        "  teste_1 = int(model.predict([555.0]))\n",
        "  teste_2 = int(model.predict([102.0]))\n",
        "  teste_3 = int(model.predict([52.0]))\n",
        "\n",
        "  print(f'A previsão para o 555 é: {teste_1}')\n",
        "  print(f'A previsão para o 102 é: {teste_2}')\n",
        "  print(f'A previsão para o 52 é: {teste_3}')"
      ],
      "execution_count": 3,
      "outputs": []
    },
    {
      "cell_type": "code",
      "metadata": {
        "id": "CBCUaO8UOtBy",
        "colab_type": "code",
        "colab": {}
      },
      "source": [
        "def previsao_modelo_2():\n",
        "  teste_1 = int(model_2.predict([555.0]))\n",
        "  teste_2 = int(model_2.predict([102.0]))\n",
        "  teste_3 = int(model_2.predict([52.0]))\n",
        "\n",
        "  print(f'A previsão para o 555 é: {teste_1}')\n",
        "  print(f'A previsão para o 102 é: {teste_2}')\n",
        "  print(f'A previsão para o 52 é: {teste_3}')"
      ],
      "execution_count": 4,
      "outputs": []
    },
    {
      "cell_type": "markdown",
      "metadata": {
        "id": "3i_JeSWKIlhR",
        "colab_type": "text"
      },
      "source": [
        "\n",
        "\n",
        "---\n",
        "\n"
      ]
    },
    {
      "cell_type": "markdown",
      "metadata": {
        "id": "Pv2-bRZiM8Cp",
        "colab_type": "text"
      },
      "source": [
        "Minha primeira idea foi utilizar apenas os exemplos que foram dados na prova para ver como o modelo iria reagir e como seriam os resultados."
      ]
    },
    {
      "cell_type": "code",
      "metadata": {
        "id": "L_N0VLYJ-Tq2",
        "colab_type": "code",
        "colab": {
          "base_uri": "https://localhost:8080/",
          "height": 102
        },
        "outputId": "317dd51e-2a6c-48f6-901d-b67ea5262f1f"
      },
      "source": [
        "entrada_q    = np.array([719, 1,  15, 110,  0],  dtype=float)\n",
        "saida_a = np.array([53, 1, 7, 8, 0],  dtype=float)\n",
        "\n",
        "for i,c in enumerate(entrada_q):\n",
        "  print(f\"o numero {c} em UMC, pode ser representado em decimal como {saida_a[i]}\")"
      ],
      "execution_count": 5,
      "outputs": [
        {
          "output_type": "stream",
          "text": [
            "o numero 719.0 em UMC, pode ser representado em decimal como 53.0\n",
            "o numero 1.0 em UMC, pode ser representado em decimal como 1.0\n",
            "o numero 15.0 em UMC, pode ser representado em decimal como 7.0\n",
            "o numero 110.0 em UMC, pode ser representado em decimal como 8.0\n",
            "o numero 0.0 em UMC, pode ser representado em decimal como 0.0\n"
          ],
          "name": "stdout"
        }
      ]
    },
    {
      "cell_type": "markdown",
      "metadata": {
        "id": "Bx7BVB0INgEw",
        "colab_type": "text"
      },
      "source": [
        "O primeiro modelo que eu montei foi um simples perceptron, uma rede neural de uma camada, e como forma de avalição usei o mais basico, MSE."
      ]
    },
    {
      "cell_type": "code",
      "metadata": {
        "id": "SLZeD8ij_Smz",
        "colab_type": "code",
        "colab": {}
      },
      "source": [
        "model = tf.keras.Sequential([\n",
        "  tf.keras.layers.Dense(units=1, input_shape=[1])\n",
        "])\n",
        "\n",
        "model.compile(loss='mean_squared_error',\n",
        "              optimizer=tf.keras.optimizers.Adam(0.1))"
      ],
      "execution_count": 6,
      "outputs": []
    },
    {
      "cell_type": "code",
      "metadata": {
        "id": "pinRlLct_98b",
        "colab_type": "code",
        "colab": {
          "base_uri": "https://localhost:8080/",
          "height": 34
        },
        "outputId": "f14f3a04-dbab-4255-8917-68ab79f91ea1"
      },
      "source": [
        "history = model.fit(entrada_q, saida_a, epochs=500, verbose=False)\n",
        "print(\"Finished training the model\")"
      ],
      "execution_count": 7,
      "outputs": [
        {
          "output_type": "stream",
          "text": [
            "Finished training the model\n"
          ],
          "name": "stdout"
        }
      ]
    },
    {
      "cell_type": "markdown",
      "metadata": {
        "id": "6Bc_tzoON9vj",
        "colab_type": "text"
      },
      "source": [
        "Esse grafico mostra a magnitude do erro, conforme o modelo é treinado e como podemos ver o erro aparentemente chegou a 0 perto depois dos 50 primeiras rodadas de treino, mas posteriormente veremos o motivo de ter usado 500."
      ]
    },
    {
      "cell_type": "code",
      "metadata": {
        "id": "9ktaeDxlAMvR",
        "colab_type": "code",
        "colab": {
          "base_uri": "https://localhost:8080/",
          "height": 296
        },
        "outputId": "069f47ca-21df-4baa-d000-a5dd925ca190"
      },
      "source": [
        "import matplotlib.pyplot as plt\n",
        "plt.xlabel('Epoch Number')\n",
        "plt.ylabel(\"Loss Magnitude\")\n",
        "plt.plot(history.history['loss'])"
      ],
      "execution_count": 8,
      "outputs": [
        {
          "output_type": "execute_result",
          "data": {
            "text/plain": [
              "[<matplotlib.lines.Line2D at 0x7fb1c7b350f0>]"
            ]
          },
          "metadata": {
            "tags": []
          },
          "execution_count": 8
        },
        {
          "output_type": "display_data",
          "data": {
            "image/png": "[encoded data removed]",
            "text/plain": [
              "<Figure size 432x288 with 1 Axes>"
            ]
          },
          "metadata": {
            "tags": [],
            "needs_background": "light"
          }
        }
      ]
    },
    {
      "cell_type": "markdown",
      "metadata": {
        "id": "oZuxsj15O9JW",
        "colab_type": "text"
      },
      "source": [
        "Com os resultados do primiero modelo começamos a perceber o problema, os resultados estão um tanto quanto longe da realidade.\n",
        "\n",
        "\n",
        "\n",
        "*   O correto para 555 seria 45.\n",
        "*   O correto para 102 seria 8.\n",
        "*   O correto para 52 seria 12. (O numero mais preocupante)\n",
        "\n",
        "\n",
        "\n"
      ]
    },
    {
      "cell_type": "markdown",
      "metadata": {
        "id": "5YxdSSqlI8of",
        "colab_type": "text"
      },
      "source": [
        "\n",
        "\n",
        "---\n",
        "\n"
      ]
    },
    {
      "cell_type": "code",
      "metadata": {
        "id": "gMcfSNHZLY2N",
        "colab_type": "code",
        "colab": {
          "base_uri": "https://localhost:8080/",
          "height": 68
        },
        "outputId": "e6db509d-9409-4f9f-dca3-d56dfd0a3f2c"
      },
      "source": [
        "previsao_modelo_1()"
      ],
      "execution_count": 9,
      "outputs": [
        {
          "output_type": "stream",
          "text": [
            "A previsão para o 555 é: 41\n",
            "A previsão para o 102 é: 7\n",
            "A previsão para o 52 é: 4\n"
          ],
          "name": "stdout"
        }
      ]
    },
    {
      "cell_type": "markdown",
      "metadata": {
        "id": "1ydsSneGKlmf",
        "colab_type": "text"
      },
      "source": [
        "\n",
        "\n",
        "---\n",
        "\n"
      ]
    },
    {
      "cell_type": "markdown",
      "metadata": {
        "id": "mD7uJuE0P35U",
        "colab_type": "text"
      },
      "source": [
        "Por conta do erro no ultimo numero pensei que talvez o problema fosse devido a o perceptron ser um modelo simples e por conta disso resolvi fazer outro um pouco mais complexo.\n",
        "\n",
        "Dessa vez o modelo possui 4 neuronios de entrada, 4 escondidos, e 1 de saida."
      ]
    },
    {
      "cell_type": "code",
      "metadata": {
        "id": "VB6eClUqAYiR",
        "colab_type": "code",
        "colab": {}
      },
      "source": [
        "model_2 = tf.keras.Sequential([\n",
        "  tf.keras.layers.Dense(units=4, input_shape=[1]),\n",
        "  tf.keras.layers.Dense(units=4),\n",
        "  tf.keras.layers.Dense(units=1)\n",
        "])"
      ],
      "execution_count": 10,
      "outputs": []
    },
    {
      "cell_type": "code",
      "metadata": {
        "id": "MeK4RjZPAt3l",
        "colab_type": "code",
        "colab": {}
      },
      "source": [
        "model_2.compile(loss='mean_squared_error', optimizer=tf.keras.optimizers.Adam(0.1))"
      ],
      "execution_count": 11,
      "outputs": []
    },
    {
      "cell_type": "code",
      "metadata": {
        "id": "Tlp-MMcIBGIS",
        "colab_type": "code",
        "colab": {
          "base_uri": "https://localhost:8080/",
          "height": 34
        },
        "outputId": "b9d03d5f-8aac-41b8-d69e-ba358bd0bac2"
      },
      "source": [
        "model_2.fit(entrada_q, saida_a, epochs=500, verbose=False)"
      ],
      "execution_count": 12,
      "outputs": [
        {
          "output_type": "execute_result",
          "data": {
            "text/plain": [
              "<tensorflow.python.keras.callbacks.History at 0x7fb1c6df9710>"
            ]
          },
          "metadata": {
            "tags": []
          },
          "execution_count": 12
        }
      ]
    },
    {
      "cell_type": "markdown",
      "metadata": {
        "id": "P2ERaOICKoXS",
        "colab_type": "text"
      },
      "source": [
        "\n",
        "\n",
        "---\n",
        "\n"
      ]
    },
    {
      "cell_type": "markdown",
      "metadata": {
        "id": "Jdtxo0_4QeRM",
        "colab_type": "text"
      },
      "source": [
        "E mesmo tendo uma melhora, ainda não é bom o suficiente, principalmente para o terceiro numero."
      ]
    },
    {
      "cell_type": "code",
      "metadata": {
        "id": "BUmNeqfxL9_t",
        "colab_type": "code",
        "colab": {
          "base_uri": "https://localhost:8080/",
          "height": 68
        },
        "outputId": "013d7bc9-54ae-4b1c-fc8b-933138182456"
      },
      "source": [
        "previsao_modelo_2()"
      ],
      "execution_count": 13,
      "outputs": [
        {
          "output_type": "stream",
          "text": [
            "A previsão para o 555 é: 41\n",
            "A previsão para o 102 é: 9\n",
            "A previsão para o 52 é: 5\n"
          ],
          "name": "stdout"
        }
      ]
    },
    {
      "cell_type": "markdown",
      "metadata": {
        "id": "l8UUqnQbK9Ji",
        "colab_type": "text"
      },
      "source": [
        "\n",
        "\n",
        "---\n",
        "\n"
      ]
    },
    {
      "cell_type": "markdown",
      "metadata": {
        "id": "SEf_X5SmQrHE",
        "colab_type": "text"
      },
      "source": [
        "Portanto pensei que o problema pudesse ser devivo a falta de dados para o treinamento das redes, e por conta disso reoslvi adicionar mais alguns numeros para o treinamento"
      ]
    },
    {
      "cell_type": "code",
      "metadata": {
        "id": "B3zLbovmBRTQ",
        "colab_type": "code",
        "colab": {
          "base_uri": "https://localhost:8080/",
          "height": 357
        },
        "outputId": "b4a4e1fd-5335-4ad5-a3c7-f369cfccda88"
      },
      "source": [
        "entrada_q    = np.array([719, 700, 682, 630, 540, 505, 479, 453, 399, 333, 247, 200, 77, 23, 12, 3, 1,  15, 110,  0],  dtype=float)\n",
        "saida_a = np.array([53, 42, 54, 42, 38, 35, 47, 37, 45, 27, 27, 12, 21, 7, 4, 3, 1, 7, 8, 0],  dtype=float)\n",
        "\n",
        "for i,c in enumerate(entrada_q):\n",
        "  print(f\"o numero {c} em UMC, pode ser representado em decimal como {saida_a[i]}\")"
      ],
      "execution_count": 14,
      "outputs": [
        {
          "output_type": "stream",
          "text": [
            "o numero 719.0 em UMC, pode ser representado em decimal como 53.0\n",
            "o numero 700.0 em UMC, pode ser representado em decimal como 42.0\n",
            "o numero 682.0 em UMC, pode ser representado em decimal como 54.0\n",
            "o numero 630.0 em UMC, pode ser representado em decimal como 42.0\n",
            "o numero 540.0 em UMC, pode ser representado em decimal como 38.0\n",
            "o numero 505.0 em UMC, pode ser representado em decimal como 35.0\n",
            "o numero 479.0 em UMC, pode ser representado em decimal como 47.0\n",
            "o numero 453.0 em UMC, pode ser representado em decimal como 37.0\n",
            "o numero 399.0 em UMC, pode ser representado em decimal como 45.0\n",
            "o numero 333.0 em UMC, pode ser representado em decimal como 27.0\n",
            "o numero 247.0 em UMC, pode ser representado em decimal como 27.0\n",
            "o numero 200.0 em UMC, pode ser representado em decimal como 12.0\n",
            "o numero 77.0 em UMC, pode ser representado em decimal como 21.0\n",
            "o numero 23.0 em UMC, pode ser representado em decimal como 7.0\n",
            "o numero 12.0 em UMC, pode ser representado em decimal como 4.0\n",
            "o numero 3.0 em UMC, pode ser representado em decimal como 3.0\n",
            "o numero 1.0 em UMC, pode ser representado em decimal como 1.0\n",
            "o numero 15.0 em UMC, pode ser representado em decimal como 7.0\n",
            "o numero 110.0 em UMC, pode ser representado em decimal como 8.0\n",
            "o numero 0.0 em UMC, pode ser representado em decimal como 0.0\n"
          ],
          "name": "stdout"
        }
      ]
    },
    {
      "cell_type": "markdown",
      "metadata": {
        "id": "KPM7C7V9RQ3j",
        "colab_type": "text"
      },
      "source": [
        "\n",
        "\n",
        "---\n",
        "\n"
      ]
    },
    {
      "cell_type": "markdown",
      "metadata": {
        "id": "C3DBeuPnRWrL",
        "colab_type": "text"
      },
      "source": [
        "Usei os mesmo modelos da primeira parte para serem treinados com mais dados."
      ]
    },
    {
      "cell_type": "code",
      "metadata": {
        "id": "i2CX_JHQFxGz",
        "colab_type": "code",
        "colab": {}
      },
      "source": [
        "history = model.fit(entrada_q, saida_a, epochs=500, verbose=False)"
      ],
      "execution_count": 15,
      "outputs": []
    },
    {
      "cell_type": "code",
      "metadata": {
        "id": "WsG2nAwZLnGu",
        "colab_type": "code",
        "colab": {}
      },
      "source": [
        "history_2 = model_2.fit(entrada_q, saida_a, epochs=500, verbose=False)"
      ],
      "execution_count": 16,
      "outputs": []
    },
    {
      "cell_type": "markdown",
      "metadata": {
        "id": "xFsjOQuGRVr6",
        "colab_type": "text"
      },
      "source": [
        "\n",
        "\n",
        "---\n",
        "\n"
      ]
    },
    {
      "cell_type": "markdown",
      "metadata": {
        "id": "NEH8T1wwQ3fa",
        "colab_type": "text"
      },
      "source": [
        "Dessa vez o modelo 1 demorou as 500 iterações conseguir chegar a 0 de erro e o segundo por algum motivo chegou perto de 100. "
      ]
    },
    {
      "cell_type": "code",
      "metadata": {
        "id": "hISeLGMmF4m8",
        "colab_type": "code",
        "colab": {
          "base_uri": "https://localhost:8080/",
          "height": 296
        },
        "outputId": "24d4eaa7-f278-4309-d847-aa9b567c5148"
      },
      "source": [
        "import matplotlib.pyplot as plt\n",
        "plt.xlabel('Epoch Number')\n",
        "plt.ylabel(\"Loss Magnitude\")\n",
        "plt.plot(history.history['loss'])"
      ],
      "execution_count": 17,
      "outputs": [
        {
          "output_type": "execute_result",
          "data": {
            "text/plain": [
              "[<matplotlib.lines.Line2D at 0x7fb1c5cdb8d0>]"
            ]
          },
          "metadata": {
            "tags": []
          },
          "execution_count": 17
        },
        {
          "output_type": "display_data",
          "data": {
            "image/png": "[encoded data removed]",
            "text/plain": [
              "<Figure size 432x288 with 1 Axes>"
            ]
          },
          "metadata": {
            "tags": [],
            "needs_background": "light"
          }
        }
      ]
    },
    {
      "cell_type": "code",
      "metadata": {
        "id": "ZV-94mVaLsZW",
        "colab_type": "code",
        "colab": {
          "base_uri": "https://localhost:8080/",
          "height": 296
        },
        "outputId": "a160f893-e7d1-478d-e8e3-dc58165094c2"
      },
      "source": [
        "import matplotlib.pyplot as plt\n",
        "plt.xlabel('Epoch Number')\n",
        "plt.ylabel(\"Loss Magnitude\")\n",
        "plt.plot(history_2.history['loss'])"
      ],
      "execution_count": 18,
      "outputs": [
        {
          "output_type": "execute_result",
          "data": {
            "text/plain": [
              "[<matplotlib.lines.Line2D at 0x7fb1c5ca3a20>]"
            ]
          },
          "metadata": {
            "tags": []
          },
          "execution_count": 18
        },
        {
          "output_type": "display_data",
          "data": {
            "image/png": "[encoded data removed]",
            "text/plain": [
              "<Figure size 432x288 with 1 Axes>"
            ]
          },
          "metadata": {
            "tags": [],
            "needs_background": "light"
          }
        }
      ]
    },
    {
      "cell_type": "markdown",
      "metadata": {
        "id": "2JYtXVK0RhrM",
        "colab_type": "text"
      },
      "source": [
        "\n",
        "\n",
        "---\n",
        "\n"
      ]
    },
    {
      "cell_type": "markdown",
      "metadata": {
        "id": "g4c-3pK8Szmc",
        "colab_type": "text"
      },
      "source": [
        "E como podemos ver, tivemos uma pequena melhora nos primeiro e no terceiro numero, mas uma piora no terceiro, principalmente no segundo modelo."
      ]
    },
    {
      "cell_type": "code",
      "metadata": {
        "id": "LhWE8fz9F8cZ",
        "colab_type": "code",
        "colab": {
          "base_uri": "https://localhost:8080/",
          "height": 68
        },
        "outputId": "9f98759b-f41b-4310-d2e9-bfefda2415bd"
      },
      "source": [
        "previsao_modelo_1()"
      ],
      "execution_count": 19,
      "outputs": [
        {
          "output_type": "stream",
          "text": [
            "A previsão para o 555 é: 42\n",
            "A previsão para o 102 é: 10\n",
            "A previsão para o 52 é: 7\n"
          ],
          "name": "stdout"
        }
      ]
    },
    {
      "cell_type": "code",
      "metadata": {
        "id": "T5T3DtAZF-wD",
        "colab_type": "code",
        "colab": {
          "base_uri": "https://localhost:8080/",
          "height": 68
        },
        "outputId": "e9ca581e-e27e-4923-d6ac-d2128945808c"
      },
      "source": [
        "previsao_modelo_2()"
      ],
      "execution_count": 20,
      "outputs": [
        {
          "output_type": "stream",
          "text": [
            "A previsão para o 555 é: 42\n",
            "A previsão para o 102 é: 11\n",
            "A previsão para o 52 é: 8\n"
          ],
          "name": "stdout"
        }
      ]
    },
    {
      "cell_type": "markdown",
      "metadata": {
        "id": "JwQXkG7zHsMB",
        "colab_type": "text"
      },
      "source": [
        "Depois dessa analise superficial, pude notar alguns problemas, a primeira é que o o modelo está sofrendo overfitting, ou seja, o modelo se adapta bem demais para os dados de treino, mas não generaliza bem para os dados de teste. Esse problema pode ser corrigido com mais dados.\n",
        "\n",
        "Outro problema é que os dois modelos usados são um tanto quanto simples, então se modelos mais complexos fossem utilizados, possivelmente os resultados seriam melhores. Outras arquiteturas de redes neurais também poderiam ser usadas para melhorar os resultados.\n",
        "\n",
        "Mas como eu resolvi fazer isso só como uma brincadeira para ver se era possivel criar algo desse tipo, não vou fazer isso agora, mas quem sabe faça quando acabarem as aulas.\n",
        "\n",
        "PS: Esqueci de travar os resultados das redes neurais, então quando o git executar o código, alguns resultados podem ser diferentes do que está escrito."
      ]
    }
  ]
}